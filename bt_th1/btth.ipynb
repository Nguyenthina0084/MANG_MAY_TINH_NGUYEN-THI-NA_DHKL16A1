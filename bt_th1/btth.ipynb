{
 "cells": [
  {
   "cell_type": "code",
   "execution_count": 1,
   "id": "1a388075",
   "metadata": {},
   "outputs": [
    {
     "name": "stdout",
     "output_type": "stream",
     "text": [
      "Văn bản mã hóa (AES): b'j\\x9c<[\\xa6\\x00U\\xa3A\\x81V\\\\~\\x8f\\x1b.\\x98\\xe6\\x93\\xe4\\xa4\\x89HiN0\\x05=\\xeb\\xc6+\\x17\\xc3k\\x12\\xea\\x80\\xe45\\x875y\\x0b\\x87\\xed\\x80\\xaf\\xb2\\xf9\\xcb\\xb9ty\\xf7\\xc1S\\x87\\xdcH\\xcd3\\xa1\\x90\\xda'\n",
      "Thời gian mã hóa AES: 0.0 giây\n",
      "Văn bản giải mã (AES): Hello, this is a test message for AES encryption!\n",
      "Thời gian giải mã AES: 0.0 giây\n"
     ]
    }
   ],
   "source": [
    "from Crypto.Cipher import AES \n",
    "from Crypto.Random import get_random_bytes \n",
    "from Crypto.Util.Padding import pad, unpad \n",
    "import time \n",
    " \n",
    "# Tạo khóa mã hóa 128-bit và khởi tạo AES \n",
    "key = get_random_bytes(16) \n",
    "cipher = AES.new(key, AES.MODE_CBC) \n",
    " \n",
    "plaintext = b\"Hello, this is a test message for AES encryption!\" \n",
    " \n",
    "# Đo thời gian mã hóa AES \n",
    "start_time = time.time() \n",
    "ciphertext = cipher.encrypt(pad(plaintext, AES.block_size)) \n",
    "end_time = time.time() \n",
    "aes_encryption_time = end_time - start_time \n",
    " \n",
    "print(\"Văn bản mã hóa (AES):\", ciphertext) \n",
    "print(\"Thời gian mã hóa AES:\", aes_encryption_time, \"giây\") \n",
    " \n",
    "# Giải mã và đo thời gian giải mã AES\n",
    "start_time = time.time() \n",
    "decipher = AES.new(key, AES.MODE_CBC, cipher.iv) \n",
    "decrypted_text = unpad(decipher.decrypt(ciphertext), AES.block_size) \n",
    "end_time = time.time() \n",
    "aes_decryption_time = end_time - start_time \n",
    " \n",
    "print(\"Văn bản giải mã (AES):\", decrypted_text.decode()) \n",
    "print(\"Thời gian giải mã AES:\", aes_decryption_time, \"giây\") "
   ]
  },
  {
   "cell_type": "code",
   "execution_count": 2,
   "id": "d7ffdcf7",
   "metadata": {},
   "outputs": [
    {
     "name": "stdout",
     "output_type": "stream",
     "text": [
      "Khóa AES sau khi mã hóa bằng RSA: b'J\\xc7\\xcb\\xdf\\xebS\\x9e0\\xe7G\\xa3\\x01\\xef\\xabSv\\xc2@k\"\\xb5\\x9c\\xc2M\\x0f\\x19\\xc94\\xd0\\x11\\x8c\\x062\\x02k\\xad\\xd1.!\\xb4\\xe5]S\\xd0y\\xb6\\x8e+\\x01-\\x16\\xf2(\\x17\\xd3\\xc0\\x87\\xa5xc`\\xc7\\xa2\\xf3\"\\xa7G=t\\xc9\\x91\\xfc\\xcb\\xca&\\x8bE\\xac\\xf1\\x94\\x0e\\x8a\\xb6\\x1d\\xf5v)\\xaf\\x91\\xba\\xe9\\xcf#\\xd4\\x08\\x84\\x87b\\x13<\\x83I\\xf0\\xabqQ\\xa4JQaM:\\x8f4\\x9a\\x97{\\x87P\\xf5\\x8f\\xb1\\xcd\\x7f,\\xa3V\\xe2\\xc1\\xf1\\xdd\"\\xcb\\xdf\\x01\\xae\\xda)\\xeb\\xca\\xaa._d+\\xdf\\nz\\xe8\\xa8\\xab\\x1aW\\xb6V\\xe4%teZ0]oqY\\xae\\xc9L`\\xa2\\xc9B\\x08C|\\xd0\\xe5\\xd9\\xed5\\xbb\\xab\\xbbU\\xf9\\xf6\\xc0\\xac\\x00.\\xbf\\x95<x\\xf0\\xf9pV\\x94\\x98,\\xa7\\xc4\\xc2\\xca\\xcf\\x10\\xf3X\\x9f\\xc8\\xb0,\\x7f\\xae\\x9e\\xbb\\\\\\xbd;!cB\\xdc\\xfd\\x88D\\x11i\\xe0\\xc2\\x8f\\x92\\xf2j\\x9e\\x9ad\\xad\\x13\\xc4\\x98 \\xa1\\xb4mWW\\x83\\x8c\\xad\\xe1\\xea\\xbb\\xc2\\xe8'\n",
      "Thời gian mã hóa RSA: 0.0 giây\n",
      "Khóa AES sau khi giải mã: b'\\xecK\\xdfL#\\xc4\\xc4W\\x17\\x9eOO\\x10\\xc3W\\xbd'\n",
      "Thời gian giải mã RSA: 0.010610342025756836 giây\n"
     ]
    }
   ],
   "source": [
    "from Crypto.PublicKey import RSA \n",
    "from Crypto.Cipher import PKCS1_OAEP \n",
    " \n",
    "# Tạo cặp khóa RSA \n",
    "key = RSA.generate(2048) \n",
    "private_key = key.export_key() \n",
    "public_key = key.publickey().export_key() \n",
    " \n",
    "# Mã hóa khóa AES bằng khóa công khai RSA và đo thời gian \n",
    "aes_key = get_random_bytes(16) \n",
    "cipher_rsa = PKCS1_OAEP.new(RSA.import_key(public_key)) \n",
    " \n",
    "start_time = time.time()\n",
    "encrypted_aes_key = cipher_rsa.encrypt(aes_key) \n",
    "end_time = time.time() \n",
    "rsa_encryption_time = end_time - start_time \n",
    " \n",
    "print(\"Khóa AES sau khi mã hóa bằng RSA:\", encrypted_aes_key) \n",
    "print(\"Thời gian mã hóa RSA:\", rsa_encryption_time, \"giây\") \n",
    " \n",
    "# Giải mã khóa AES bằng khóa bí mật RSA và đo thời gian \n",
    "decipher_rsa = PKCS1_OAEP.new(RSA.import_key(private_key)) \n",
    " \n",
    "start_time = time.time() \n",
    "decrypted_aes_key = decipher_rsa.decrypt(encrypted_aes_key) \n",
    "end_time = time.time() \n",
    "rsa_decryption_time = end_time - start_time \n",
    " \n",
    "print(\"Khóa AES sau khi giải mã:\", decrypted_aes_key) \n",
    "print(\"Thời gian giải mã RSA:\", rsa_decryption_time, \"giây\")"
   ]
  },
  {
   "cell_type": "code",
   "execution_count": 3,
   "id": "f14b3834",
   "metadata": {},
   "outputs": [
    {
     "name": "stdout",
     "output_type": "stream",
     "text": [
      "Khóa AES sau khi giải mã: b'\\xecK\\xdfL#\\xc4\\xc4W\\x17\\x9eOO\\x10\\xc3W\\xbd'\n",
      "Thời gian giải mã RSA: 0.010610342025756836 giây\n"
     ]
    }
   ],
   "source": [
    "from Crypto.PublicKey import RSA \n",
    "from Crypto.Cipher import PKCS1_OAEP \n",
    "# Tạo cặp khóa RSA \n",
    "key = RSA.generate(2048) \n",
    "private_key = key.export_key() \n",
    "public_key = key.publickey().export_key()\n",
    "\n",
    "# Mã hóa khóa AES bằng khóa công khai RSA và đo thời gian \n",
    "aes_key = get_random_bytes(16) \n",
    "cipher_rsa = PKCS1_OAEP.new(RSA.import_key(public_key)) \n",
    "\n",
    "start_time = time.time() \n",
    "\n",
    "print(\"Khóa AES sau khi giải mã:\", decrypted_aes_key) \n",
    "print(\"Thời gian giải mã RSA:\", rsa_decryption_time, \"giây\") "
   ]
  }
 ],
 "metadata": {
  "kernelspec": {
   "display_name": "base",
   "language": "python",
   "name": "python3"
  },
  "language_info": {
   "codemirror_mode": {
    "name": "ipython",
    "version": 3
   },
   "file_extension": ".py",
   "mimetype": "text/x-python",
   "name": "python",
   "nbconvert_exporter": "python",
   "pygments_lexer": "ipython3",
   "version": "3.12.4"
  }
 },
 "nbformat": 4,
 "nbformat_minor": 5
}
